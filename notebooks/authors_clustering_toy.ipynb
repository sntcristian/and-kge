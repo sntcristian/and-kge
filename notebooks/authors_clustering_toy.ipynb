{
  "nbformat": 4,
  "nbformat_minor": 0,
  "metadata": {
    "colab": {
      "name": "authors_clustering_toy.ipynb",
      "provenance": [],
      "collapsed_sections": []
    },
    "kernelspec": {
      "name": "python3",
      "display_name": "Python 3"
    },
    "language_info": {
      "name": "python"
    }
  },
  "cells": [
    {
      "cell_type": "markdown",
      "metadata": {
        "id": "rrCPbLWy0Itc"
      },
      "source": [
        "# Installing pykeen"
      ]
    },
    {
      "cell_type": "code",
      "metadata": {
        "colab": {
          "base_uri": "https://localhost:8080/"
        },
        "id": "hOEn0x5D8pai",
        "outputId": "5db84ef8-41c9-4a28-c6ca-7d09941b1c5b"
      },
      "source": [
        "cd \"/content/drive/MyDrive/thesis_project/pykeen\""
      ],
      "execution_count": null,
      "outputs": [
        {
          "output_type": "stream",
          "text": [
            "/content/drive/MyDrive/thesis_project/pykeen\n"
          ],
          "name": "stdout"
        }
      ]
    },
    {
      "cell_type": "code",
      "metadata": {
        "colab": {
          "base_uri": "https://localhost:8080/"
        },
        "id": "ogeloqFn-G2u",
        "outputId": "2826b656-aa6e-4ddc-89ef-9ebd8269384a"
      },
      "source": [
        "!pip install -e .\n",
        "!pip install sentence-transformers"
      ],
      "execution_count": null,
      "outputs": [
        {
          "output_type": "stream",
          "text": [
            "Obtaining file:///content/drive/My%20Drive/thesis_project/pykeen\n",
            "Collecting dataclasses-json\n",
            "  Downloading https://files.pythonhosted.org/packages/c3/89/390710a3ad24833f2ad11295caddd37f1bc4e60a278de1c9059727a92482/dataclasses_json-0.5.4-py3-none-any.whl\n",
            "Requirement already satisfied: numpy in /usr/local/lib/python3.7/dist-packages (from pykeen==1.4.1.dev0) (1.19.5)\n",
            "Collecting scipy>=1.5.0\n",
            "\u001b[?25l  Downloading https://files.pythonhosted.org/packages/7d/e8/43ffca541d2f208d516296950b25fe1084b35c2881f4d444c1346ca75815/scipy-1.6.3-cp37-cp37m-manylinux1_x86_64.whl (27.4MB)\n",
            "\u001b[K     |████████████████████████████████| 27.4MB 2.0MB/s \n",
            "\u001b[?25hRequirement already satisfied: click in /usr/local/lib/python3.7/dist-packages (from pykeen==1.4.1.dev0) (7.1.2)\n",
            "Collecting click_default_group\n",
            "  Downloading https://files.pythonhosted.org/packages/22/3a/e9feb3435bd4b002d183fcb9ee08fb369a7e570831ab1407bc73f079948f/click-default-group-1.2.2.tar.gz\n",
            "Requirement already satisfied: sklearn in /usr/local/lib/python3.7/dist-packages (from pykeen==1.4.1.dev0) (0.0)\n",
            "Requirement already satisfied: tqdm in /usr/local/lib/python3.7/dist-packages (from pykeen==1.4.1.dev0) (4.41.1)\n",
            "Requirement already satisfied: requests in /usr/local/lib/python3.7/dist-packages (from pykeen==1.4.1.dev0) (2.23.0)\n",
            "Collecting optuna>=2.0.0\n",
            "\u001b[?25l  Downloading https://files.pythonhosted.org/packages/1a/18/b49ca91cf592747e19f2d333c2a86cd7c81895b922a5a09adf6335471576/optuna-2.8.0-py3-none-any.whl (301kB)\n",
            "\u001b[K     |████████████████████████████████| 307kB 44.4MB/s \n",
            "\u001b[?25hRequirement already satisfied: pandas>=1.0.0 in /usr/local/lib/python3.7/dist-packages (from pykeen==1.4.1.dev0) (1.1.5)\n",
            "Requirement already satisfied: tabulate in /usr/local/lib/python3.7/dist-packages (from pykeen==1.4.1.dev0) (0.8.9)\n",
            "Collecting more_click\n",
            "  Downloading https://files.pythonhosted.org/packages/83/f7/abb43396baf1ea993598c6a63215e523daeef8426e9f8e6ee5ef81b83d56/more_click-0.0.4-py3-none-any.whl\n",
            "Collecting pystow>=0.1.5\n",
            "  Downloading https://files.pythonhosted.org/packages/51/87/3bf08a32e4ffe3b2afdec5a36ef737d7806ce9510653e8f761538a902cc1/pystow-0.1.6-py3-none-any.whl\n",
            "Collecting docdata\n",
            "  Downloading https://files.pythonhosted.org/packages/21/6e/a2d582a8fdc44053b3e4819304c1a5d364c4822027cca553d7b7daf55f92/docdata-0.0.3-py3-none-any.whl\n",
            "Collecting class_resolver>=0.0.7\n",
            "  Downloading https://files.pythonhosted.org/packages/26/98/5463422fa6326e76a1ce47783d672e45918c7d4ce327ff9b56e126fee26f/class_resolver-0.0.12-py3-none-any.whl\n",
            "Requirement already satisfied: torch in /usr/local/lib/python3.7/dist-packages (from pykeen==1.4.1.dev0) (1.8.1+cu101)\n",
            "Collecting marshmallow-enum<2.0.0,>=1.5.1\n",
            "  Downloading https://files.pythonhosted.org/packages/c6/59/ef3a3dc499be447098d4a89399beb869f813fee1b5a57d5d79dee2c1bf51/marshmallow_enum-1.5.1-py2.py3-none-any.whl\n",
            "Collecting marshmallow<4.0.0,>=3.3.0\n",
            "\u001b[?25l  Downloading https://files.pythonhosted.org/packages/e6/58/c35930f6ae92b4a434deac37fed0bc2d0577e1f59584e0018a69e699632f/marshmallow-3.12.1-py2.py3-none-any.whl (47kB)\n",
            "\u001b[K     |████████████████████████████████| 51kB 5.3MB/s \n",
            "\u001b[?25hCollecting stringcase<2.0.0,==1.2.0\n",
            "  Downloading https://files.pythonhosted.org/packages/f3/1f/1241aa3d66e8dc1612427b17885f5fcd9c9ee3079fc0d28e9a3aeeb36fa3/stringcase-1.2.0.tar.gz\n",
            "Collecting typing-inspect>=0.4.0\n",
            "  Downloading https://files.pythonhosted.org/packages/ad/fa/77565f652ce57ed56d3a63d537c885a18e4451cf2d56d944991aeb3c82bd/typing_inspect-0.7.1-py3-none-any.whl\n",
            "Requirement already satisfied: scikit-learn in /usr/local/lib/python3.7/dist-packages (from sklearn->pykeen==1.4.1.dev0) (0.22.2.post1)\n",
            "Requirement already satisfied: chardet<4,>=3.0.2 in /usr/local/lib/python3.7/dist-packages (from requests->pykeen==1.4.1.dev0) (3.0.4)\n",
            "Requirement already satisfied: urllib3!=1.25.0,!=1.25.1,<1.26,>=1.21.1 in /usr/local/lib/python3.7/dist-packages (from requests->pykeen==1.4.1.dev0) (1.24.3)\n",
            "Requirement already satisfied: idna<3,>=2.5 in /usr/local/lib/python3.7/dist-packages (from requests->pykeen==1.4.1.dev0) (2.10)\n",
            "Requirement already satisfied: certifi>=2017.4.17 in /usr/local/lib/python3.7/dist-packages (from requests->pykeen==1.4.1.dev0) (2020.12.5)\n",
            "Collecting alembic\n",
            "\u001b[?25l  Downloading https://files.pythonhosted.org/packages/d5/80/ef186e599a57d0e4cb78fc76e0bfc2e6953fa9716b2a5cf2de0117ed8eb5/alembic-1.6.5-py2.py3-none-any.whl (164kB)\n",
            "\u001b[K     |████████████████████████████████| 174kB 51.8MB/s \n",
            "\u001b[?25hCollecting colorlog\n",
            "  Downloading https://files.pythonhosted.org/packages/32/e6/e9ddc6fa1104fda718338b341e4b3dc31cd8039ab29e52fc73b508515361/colorlog-5.0.1-py2.py3-none-any.whl\n",
            "Collecting cliff\n",
            "\u001b[?25l  Downloading https://files.pythonhosted.org/packages/87/11/aea1cacbd4cf8262809c4d6f95dcb3f2802594de1f51c5bd454d69bf15c5/cliff-3.8.0-py3-none-any.whl (80kB)\n",
            "\u001b[K     |████████████████████████████████| 81kB 9.9MB/s \n",
            "\u001b[?25hCollecting cmaes>=0.8.2\n",
            "  Downloading https://files.pythonhosted.org/packages/01/1f/43b01223a0366171f474320c6e966c39a11587287f098a5f09809b45e05f/cmaes-0.8.2-py3-none-any.whl\n",
            "Requirement already satisfied: sqlalchemy>=1.1.0 in /usr/local/lib/python3.7/dist-packages (from optuna>=2.0.0->pykeen==1.4.1.dev0) (1.4.15)\n",
            "Requirement already satisfied: packaging>=20.0 in /usr/local/lib/python3.7/dist-packages (from optuna>=2.0.0->pykeen==1.4.1.dev0) (20.9)\n",
            "Requirement already satisfied: python-dateutil>=2.7.3 in /usr/local/lib/python3.7/dist-packages (from pandas>=1.0.0->pykeen==1.4.1.dev0) (2.8.1)\n",
            "Requirement already satisfied: pytz>=2017.2 in /usr/local/lib/python3.7/dist-packages (from pandas>=1.0.0->pykeen==1.4.1.dev0) (2018.9)\n",
            "Requirement already satisfied: pyyaml in /usr/local/lib/python3.7/dist-packages (from docdata->pykeen==1.4.1.dev0) (3.13)\n",
            "Requirement already satisfied: typing-extensions in /usr/local/lib/python3.7/dist-packages (from torch->pykeen==1.4.1.dev0) (3.7.4.3)\n",
            "Collecting mypy-extensions>=0.3.0\n",
            "  Downloading https://files.pythonhosted.org/packages/5c/eb/975c7c080f3223a5cdaff09612f3a5221e4ba534f7039db34c35d95fa6a5/mypy_extensions-0.4.3-py2.py3-none-any.whl\n",
            "Requirement already satisfied: joblib>=0.11 in /usr/local/lib/python3.7/dist-packages (from scikit-learn->sklearn->pykeen==1.4.1.dev0) (1.0.1)\n",
            "Collecting python-editor>=0.3\n",
            "  Downloading https://files.pythonhosted.org/packages/c6/d3/201fc3abe391bbae6606e6f1d598c15d367033332bd54352b12f35513717/python_editor-1.0.4-py3-none-any.whl\n",
            "Collecting Mako\n",
            "\u001b[?25l  Downloading https://files.pythonhosted.org/packages/f3/54/dbc07fbb20865d3b78fdb7cf7fa713e2cba4f87f71100074ef2dc9f9d1f7/Mako-1.1.4-py2.py3-none-any.whl (75kB)\n",
            "\u001b[K     |████████████████████████████████| 81kB 9.8MB/s \n",
            "\u001b[?25hCollecting stevedore>=2.0.1\n",
            "\u001b[?25l  Downloading https://files.pythonhosted.org/packages/d4/49/b602307aeac3df3384ff1fcd05da9c0376c622a6c48bb5325f28ab165b57/stevedore-3.3.0-py3-none-any.whl (49kB)\n",
            "\u001b[K     |████████████████████████████████| 51kB 6.3MB/s \n",
            "\u001b[?25hCollecting pbr!=2.1.0,>=2.0.0\n",
            "\u001b[?25l  Downloading https://files.pythonhosted.org/packages/18/e0/1d4702dd81121d04a477c272d47ee5b6bc970d1a0990b11befa275c55cf2/pbr-5.6.0-py2.py3-none-any.whl (111kB)\n",
            "\u001b[K     |████████████████████████████████| 112kB 40.7MB/s \n",
            "\u001b[?25hCollecting cmd2>=1.0.0\n",
            "\u001b[?25l  Downloading https://files.pythonhosted.org/packages/d1/06/ea782764035efa0633b6353202f3f86b7c390fe11d4dfd33af9b49344130/cmd2-2.0.1-py3-none-any.whl (139kB)\n",
            "\u001b[K     |████████████████████████████████| 143kB 45.4MB/s \n",
            "\u001b[?25hRequirement already satisfied: pyparsing>=2.1.0 in /usr/local/lib/python3.7/dist-packages (from cliff->optuna>=2.0.0->pykeen==1.4.1.dev0) (2.4.7)\n",
            "Requirement already satisfied: PrettyTable>=0.7.2 in /usr/local/lib/python3.7/dist-packages (from cliff->optuna>=2.0.0->pykeen==1.4.1.dev0) (2.1.0)\n",
            "Requirement already satisfied: greenlet!=0.4.17; python_version >= \"3\" in /usr/local/lib/python3.7/dist-packages (from sqlalchemy>=1.1.0->optuna>=2.0.0->pykeen==1.4.1.dev0) (1.1.0)\n",
            "Requirement already satisfied: importlib-metadata; python_version < \"3.8\" in /usr/local/lib/python3.7/dist-packages (from sqlalchemy>=1.1.0->optuna>=2.0.0->pykeen==1.4.1.dev0) (4.0.1)\n",
            "Requirement already satisfied: six>=1.5 in /usr/local/lib/python3.7/dist-packages (from python-dateutil>=2.7.3->pandas>=1.0.0->pykeen==1.4.1.dev0) (1.15.0)\n",
            "Requirement already satisfied: MarkupSafe>=0.9.2 in /usr/local/lib/python3.7/dist-packages (from Mako->alembic->optuna>=2.0.0->pykeen==1.4.1.dev0) (2.0.1)\n",
            "Collecting colorama>=0.3.7\n",
            "  Downloading https://files.pythonhosted.org/packages/44/98/5b86278fbbf250d239ae0ecb724f8572af1c91f4a11edf4d36a206189440/colorama-0.4.4-py2.py3-none-any.whl\n",
            "Requirement already satisfied: attrs>=16.3.0 in /usr/local/lib/python3.7/dist-packages (from cmd2>=1.0.0->cliff->optuna>=2.0.0->pykeen==1.4.1.dev0) (21.2.0)\n",
            "Collecting pyperclip>=1.6\n",
            "  Downloading https://files.pythonhosted.org/packages/a7/2c/4c64579f847bd5d539803c8b909e54ba087a79d01bb3aba433a95879a6c5/pyperclip-1.8.2.tar.gz\n",
            "Requirement already satisfied: wcwidth>=0.1.7 in /usr/local/lib/python3.7/dist-packages (from cmd2>=1.0.0->cliff->optuna>=2.0.0->pykeen==1.4.1.dev0) (0.2.5)\n",
            "Requirement already satisfied: zipp>=0.5 in /usr/local/lib/python3.7/dist-packages (from importlib-metadata; python_version < \"3.8\"->sqlalchemy>=1.1.0->optuna>=2.0.0->pykeen==1.4.1.dev0) (3.4.1)\n",
            "Building wheels for collected packages: click-default-group, stringcase, pyperclip\n",
            "  Building wheel for click-default-group (setup.py) ... \u001b[?25l\u001b[?25hdone\n",
            "  Created wheel for click-default-group: filename=click_default_group-1.2.2-cp37-none-any.whl size=3386 sha256=77a26da7f87139e6b6f461abf697afdc45ebcac200fcce34905302abafd377d2\n",
            "  Stored in directory: /root/.cache/pip/wheels/ca/ed/79/2200269c285b0d21ab4591c6388a14691a4fc77d76bec40fe2\n",
            "  Building wheel for stringcase (setup.py) ... \u001b[?25l\u001b[?25hdone\n",
            "  Created wheel for stringcase: filename=stringcase-1.2.0-cp37-none-any.whl size=3588 sha256=c181adca92ffbbe18f5c37ae66fd38d58abd5d0f0399403e8e1be455595641b5\n",
            "  Stored in directory: /root/.cache/pip/wheels/a0/16/a0/16e2c81dbd47503b5a35583dfabde5a93b4cf98dbf0033dad5\n",
            "  Building wheel for pyperclip (setup.py) ... \u001b[?25l\u001b[?25hdone\n",
            "  Created wheel for pyperclip: filename=pyperclip-1.8.2-cp37-none-any.whl size=11136 sha256=b7c97ce6d8ee3698d4e7704456068bd106652732c2f8ed6b5efb822908231734\n",
            "  Stored in directory: /root/.cache/pip/wheels/25/af/b8/3407109267803f4015e1ee2ff23be0c8c19ce4008665931ee1\n",
            "Successfully built click-default-group stringcase pyperclip\n",
            "\u001b[31mERROR: albumentations 0.1.12 has requirement imgaug<0.2.7,>=0.2.5, but you'll have imgaug 0.2.9 which is incompatible.\u001b[0m\n",
            "Installing collected packages: marshmallow, marshmallow-enum, stringcase, mypy-extensions, typing-inspect, dataclasses-json, scipy, click-default-group, python-editor, Mako, alembic, colorlog, pbr, stevedore, colorama, pyperclip, cmd2, cliff, cmaes, optuna, more-click, pystow, docdata, class-resolver, pykeen\n",
            "  Found existing installation: scipy 1.4.1\n",
            "    Uninstalling scipy-1.4.1:\n",
            "      Successfully uninstalled scipy-1.4.1\n",
            "  Running setup.py develop for pykeen\n",
            "Successfully installed Mako-1.1.4 alembic-1.6.5 class-resolver-0.0.12 click-default-group-1.2.2 cliff-3.8.0 cmaes-0.8.2 cmd2-2.0.1 colorama-0.4.4 colorlog-5.0.1 dataclasses-json-0.5.4 docdata-0.0.3 marshmallow-3.12.1 marshmallow-enum-1.5.1 more-click-0.0.4 mypy-extensions-0.4.3 optuna-2.8.0 pbr-5.6.0 pykeen pyperclip-1.8.2 pystow-0.1.6 python-editor-1.0.4 scipy-1.6.3 stevedore-3.3.0 stringcase-1.2.0 typing-inspect-0.7.1\n",
            "Collecting sentence-transformers\n",
            "\u001b[?25l  Downloading https://files.pythonhosted.org/packages/cc/75/df441011cd1726822b70fbff50042adb4860e9327b99b346154ead704c44/sentence-transformers-1.2.0.tar.gz (81kB)\n",
            "\u001b[K     |████████████████████████████████| 81kB 6.7MB/s \n",
            "\u001b[?25hCollecting transformers<5.0.0,>=3.1.0\n",
            "\u001b[?25l  Downloading https://files.pythonhosted.org/packages/d5/43/cfe4ee779bbd6a678ac6a97c5a5cdeb03c35f9eaebbb9720b036680f9a2d/transformers-4.6.1-py3-none-any.whl (2.2MB)\n",
            "\u001b[K     |████████████████████████████████| 2.3MB 24.4MB/s \n",
            "\u001b[?25hRequirement already satisfied: tqdm in /usr/local/lib/python3.7/dist-packages (from sentence-transformers) (4.41.1)\n",
            "Requirement already satisfied: torch>=1.6.0 in /usr/local/lib/python3.7/dist-packages (from sentence-transformers) (1.8.1+cu101)\n",
            "Requirement already satisfied: torchvision in /usr/local/lib/python3.7/dist-packages (from sentence-transformers) (0.9.1+cu101)\n",
            "Requirement already satisfied: numpy in /usr/local/lib/python3.7/dist-packages (from sentence-transformers) (1.19.5)\n",
            "Requirement already satisfied: scikit-learn in /usr/local/lib/python3.7/dist-packages (from sentence-transformers) (0.22.2.post1)\n",
            "Requirement already satisfied: scipy in /usr/local/lib/python3.7/dist-packages (from sentence-transformers) (1.6.3)\n",
            "Requirement already satisfied: nltk in /usr/local/lib/python3.7/dist-packages (from sentence-transformers) (3.2.5)\n",
            "Collecting sentencepiece\n",
            "\u001b[?25l  Downloading https://files.pythonhosted.org/packages/f5/99/e0808cb947ba10f575839c43e8fafc9cc44e4a7a2c8f79c60db48220a577/sentencepiece-0.1.95-cp37-cp37m-manylinux2014_x86_64.whl (1.2MB)\n",
            "\u001b[K     |████████████████████████████████| 1.2MB 40.6MB/s \n",
            "\u001b[?25hCollecting huggingface-hub==0.0.8\n",
            "  Downloading https://files.pythonhosted.org/packages/a1/88/7b1e45720ecf59c6c6737ff332f41c955963090a18e72acbcbeac6b25e86/huggingface_hub-0.0.8-py3-none-any.whl\n",
            "Requirement already satisfied: requests in /usr/local/lib/python3.7/dist-packages (from transformers<5.0.0,>=3.1.0->sentence-transformers) (2.23.0)\n",
            "Requirement already satisfied: filelock in /usr/local/lib/python3.7/dist-packages (from transformers<5.0.0,>=3.1.0->sentence-transformers) (3.0.12)\n",
            "Requirement already satisfied: regex!=2019.12.17 in /usr/local/lib/python3.7/dist-packages (from transformers<5.0.0,>=3.1.0->sentence-transformers) (2019.12.20)\n",
            "Requirement already satisfied: importlib-metadata; python_version < \"3.8\" in /usr/local/lib/python3.7/dist-packages (from transformers<5.0.0,>=3.1.0->sentence-transformers) (4.0.1)\n",
            "Collecting sacremoses\n",
            "\u001b[?25l  Downloading https://files.pythonhosted.org/packages/75/ee/67241dc87f266093c533a2d4d3d69438e57d7a90abb216fa076e7d475d4a/sacremoses-0.0.45-py3-none-any.whl (895kB)\n",
            "\u001b[K     |████████████████████████████████| 901kB 34.4MB/s \n",
            "\u001b[?25hRequirement already satisfied: packaging in /usr/local/lib/python3.7/dist-packages (from transformers<5.0.0,>=3.1.0->sentence-transformers) (20.9)\n",
            "Collecting tokenizers<0.11,>=0.10.1\n",
            "\u001b[?25l  Downloading https://files.pythonhosted.org/packages/d4/e2/df3543e8ffdab68f5acc73f613de9c2b155ac47f162e725dcac87c521c11/tokenizers-0.10.3-cp37-cp37m-manylinux_2_5_x86_64.manylinux1_x86_64.manylinux_2_12_x86_64.manylinux2010_x86_64.whl (3.3MB)\n",
            "\u001b[K     |████████████████████████████████| 3.3MB 41.9MB/s \n",
            "\u001b[?25hRequirement already satisfied: typing-extensions in /usr/local/lib/python3.7/dist-packages (from torch>=1.6.0->sentence-transformers) (3.7.4.3)\n",
            "Requirement already satisfied: pillow>=4.1.1 in /usr/local/lib/python3.7/dist-packages (from torchvision->sentence-transformers) (7.1.2)\n",
            "Requirement already satisfied: joblib>=0.11 in /usr/local/lib/python3.7/dist-packages (from scikit-learn->sentence-transformers) (1.0.1)\n",
            "Requirement already satisfied: six in /usr/local/lib/python3.7/dist-packages (from nltk->sentence-transformers) (1.15.0)\n",
            "Requirement already satisfied: chardet<4,>=3.0.2 in /usr/local/lib/python3.7/dist-packages (from requests->transformers<5.0.0,>=3.1.0->sentence-transformers) (3.0.4)\n",
            "Requirement already satisfied: urllib3!=1.25.0,!=1.25.1,<1.26,>=1.21.1 in /usr/local/lib/python3.7/dist-packages (from requests->transformers<5.0.0,>=3.1.0->sentence-transformers) (1.24.3)\n",
            "Requirement already satisfied: idna<3,>=2.5 in /usr/local/lib/python3.7/dist-packages (from requests->transformers<5.0.0,>=3.1.0->sentence-transformers) (2.10)\n",
            "Requirement already satisfied: certifi>=2017.4.17 in /usr/local/lib/python3.7/dist-packages (from requests->transformers<5.0.0,>=3.1.0->sentence-transformers) (2020.12.5)\n",
            "Requirement already satisfied: zipp>=0.5 in /usr/local/lib/python3.7/dist-packages (from importlib-metadata; python_version < \"3.8\"->transformers<5.0.0,>=3.1.0->sentence-transformers) (3.4.1)\n",
            "Requirement already satisfied: click in /usr/local/lib/python3.7/dist-packages (from sacremoses->transformers<5.0.0,>=3.1.0->sentence-transformers) (7.1.2)\n",
            "Requirement already satisfied: pyparsing>=2.0.2 in /usr/local/lib/python3.7/dist-packages (from packaging->transformers<5.0.0,>=3.1.0->sentence-transformers) (2.4.7)\n",
            "Building wheels for collected packages: sentence-transformers\n",
            "  Building wheel for sentence-transformers (setup.py) ... \u001b[?25l\u001b[?25hdone\n",
            "  Created wheel for sentence-transformers: filename=sentence_transformers-1.2.0-cp37-none-any.whl size=123339 sha256=7111f5ffa0a07a0b9412bb187ff0e636bb18c2f8337fef7829c133926e0b13fd\n",
            "  Stored in directory: /root/.cache/pip/wheels/0f/06/f7/faaa96fdda87462b4fd5c47b343340e9d5531ef70d0eef8242\n",
            "Successfully built sentence-transformers\n",
            "Installing collected packages: huggingface-hub, sacremoses, tokenizers, transformers, sentencepiece, sentence-transformers\n",
            "Successfully installed huggingface-hub-0.0.8 sacremoses-0.0.45 sentence-transformers-1.2.0 sentencepiece-0.1.95 tokenizers-0.10.3 transformers-4.6.1\n"
          ],
          "name": "stdout"
        }
      ]
    },
    {
      "cell_type": "code",
      "metadata": {
        "colab": {
          "base_uri": "https://localhost:8080/"
        },
        "id": "DVROtfW5-myu",
        "outputId": "05450143-b2dc-4e40-c5eb-05e2fd1af0ed"
      },
      "source": [
        "cd \"/content/drive/MyDrive/thesis_project\""
      ],
      "execution_count": null,
      "outputs": [
        {
          "output_type": "stream",
          "text": [
            "/content/drive/MyDrive/thesis_project\n"
          ],
          "name": "stdout"
        }
      ]
    },
    {
      "cell_type": "markdown",
      "metadata": {
        "id": "kutxeEvT0NMN"
      },
      "source": [
        "# Extracting embeddings for authors"
      ]
    },
    {
      "cell_type": "code",
      "metadata": {
        "id": "OJYuTPtm82FG"
      },
      "source": [
        "import pykeen\n",
        "import torch\n",
        "from typing import List\n",
        "import pykeen.nn\n",
        "\n",
        "model = torch.load('DistMultText/trained_model.pkl', map_location=torch.device('cpu'))\n",
        "entity_representation_modules: List['pykeen.nn.RepresentationModule'] = model.entity_representations\n",
        "entity_embeddings: pykeen.nn.Embedding = entity_representation_modules[0]"
      ],
      "execution_count": null,
      "outputs": []
    },
    {
      "cell_type": "code",
      "metadata": {
        "colab": {
          "base_uri": "https://localhost:8080/"
        },
        "id": "a-nMzB1w-5zO",
        "outputId": "cb7f1351-331e-4435-b3ba-3704d5c99869"
      },
      "source": [
        "print(entity_embeddings)"
      ],
      "execution_count": null,
      "outputs": [
        {
          "output_type": "stream",
          "text": [
            "Embedding(\n",
            "  (_embeddings): Embedding(87942, 200)\n",
            ")\n"
          ],
          "name": "stdout"
        }
      ]
    },
    {
      "cell_type": "code",
      "metadata": {
        "id": "fXCjgXvG9okX"
      },
      "source": [
        "with open('OC-197K/authors_lst.txt', 'r') as f:\n",
        "  authors_lst = f.read().split(\"\\n\")"
      ],
      "execution_count": null,
      "outputs": []
    },
    {
      "cell_type": "code",
      "metadata": {
        "id": "IEjzFSR2AVyz"
      },
      "source": [
        "import json\n",
        "with open('entity_to_id.json') as json_file:\n",
        "    entity_to_ids = json.load(json_file)"
      ],
      "execution_count": null,
      "outputs": []
    },
    {
      "cell_type": "markdown",
      "metadata": {
        "id": "cBD2QCWbK6wA"
      },
      "source": [
        "**Note**: The entity_to_id file was truncated"
      ]
    },
    {
      "cell_type": "code",
      "metadata": {
        "id": "cDX3Wlog9eBO"
      },
      "source": [
        "entity_idx = torch.tensor([entity_to_ids[author] for author in authors_lst if author in entity_to_ids.keys()], dtype=torch.long)"
      ],
      "execution_count": null,
      "outputs": []
    },
    {
      "cell_type": "code",
      "metadata": {
        "id": "aYLCue1CEKEa"
      },
      "source": [
        "entity_embedding_tensor: torch.FloatTensor = entity_embeddings(indices=entity_idx)"
      ],
      "execution_count": null,
      "outputs": []
    },
    {
      "cell_type": "markdown",
      "metadata": {
        "id": "NFhFXGbb0Upz"
      },
      "source": [
        "# Indexing embeddings"
      ]
    },
    {
      "cell_type": "code",
      "metadata": {
        "id": "E6NLWqZ6ELe4"
      },
      "source": [
        "idx_to_embedding = dict()\n",
        "for idx, emb in zip(entity_idx, entity_embedding_tensor):\n",
        "  idx_to_embedding[idx.item()] = emb.detach().numpy()"
      ],
      "execution_count": null,
      "outputs": []
    },
    {
      "cell_type": "code",
      "metadata": {
        "colab": {
          "base_uri": "https://localhost:8080/"
        },
        "id": "jr60ccNPF33X",
        "outputId": "d1c01ae8-e993-4279-ff8f-5edc72b4dfe7"
      },
      "source": [
        "x = entity_embedding_tensor.detach().numpy()"
      ],
      "execution_count": null,
      "outputs": [
        {
          "output_type": "stream",
          "text": [
            "[[-0.00094988  0.05520177 -0.00016945 ...  0.01039909  0.07833451\n",
            "   0.04485578]\n",
            " [-0.03078685 -0.04847596 -0.02065092 ...  0.02299498 -0.02178585\n",
            "  -0.00049295]\n",
            " [-0.00469111 -0.03530772 -0.04240413 ... -0.06444816 -0.02982111\n",
            "   0.00555742]\n",
            " ...\n",
            " [-0.05155705 -0.01332404 -0.07428204 ...  0.00253052 -0.01312999\n",
            "  -0.01214385]\n",
            " [-0.05157559  0.06485499 -0.06110098 ... -0.02816361 -0.02230935\n",
            "   0.0004066 ]\n",
            " [-0.07957371 -0.02647611 -0.05301774 ...  0.00108645 -0.00355948\n",
            "   0.00784788]]\n"
          ],
          "name": "stdout"
        }
      ]
    },
    {
      "cell_type": "markdown",
      "metadata": {
        "id": "6Qt9JIU90ax6"
      },
      "source": [
        "# A little experiment: M Bonitz"
      ]
    },
    {
      "cell_type": "code",
      "metadata": {
        "id": "HjIhtKWpHM6O"
      },
      "source": [
        "m_bonitz_lst = [\"https://github.com/arcangelo7/time_agnostic/ar/4293\", \"https://github.com/arcangelo7/time_agnostic/ar/21727\", \"https://github.com/arcangelo7/time_agnostic/ar/79750\", \"https://github.com/arcangelo7/time_agnostic/ar/91541\", \"https://github.com/arcangelo7/time_agnostic/ar/45318\", \"https://github.com/arcangelo7/time_agnostic/ar/40867\", \"https://github.com/arcangelo7/time_agnostic/ar/4604\", \"https://github.com/arcangelo7/time_agnostic/ar/47672\", \"https://github.com/arcangelo7/time_agnostic/ar/3109\", \"https://github.com/arcangelo7/time_agnostic/ar/3935\", \"https://github.com/arcangelo7/time_agnostic/ar/236021\", \"https://github.com/arcangelo7/time_agnostic/ar/4561\", \"https://github.com/arcangelo7/time_agnostic/ar/91538\", \"https://github.com/arcangelo7/time_agnostic/ar/13251\", \"https://github.com/arcangelo7/time_agnostic/ar/91536\", \"https://github.com/arcangelo7/time_agnostic/ar/91550\", \"https://github.com/arcangelo7/time_agnostic/ar/58499\", \"https://github.com/arcangelo7/time_agnostic/ar/4239\", \"https://github.com/arcangelo7/time_agnostic/ar/4096\", \"https://github.com/arcangelo7/time_agnostic/ar/81527\"]\n",
        "m_bonitz_idx = [entity_to_ids[m_bonitz] for m_bonitz in m_bonitz_lst if m_bonitz in entity_to_ids.keys()]"
      ],
      "execution_count": null,
      "outputs": []
    },
    {
      "cell_type": "code",
      "metadata": {
        "colab": {
          "base_uri": "https://localhost:8080/"
        },
        "id": "8a77Jc4yIsMM",
        "outputId": "2430ee58-bbc7-4874-edf9-0960cd5be729"
      },
      "source": [
        "print(len(m_bonitz_idx))"
      ],
      "execution_count": null,
      "outputs": [
        {
          "output_type": "stream",
          "text": [
            "20\n"
          ],
          "name": "stdout"
        }
      ]
    },
    {
      "cell_type": "code",
      "metadata": {
        "colab": {
          "base_uri": "https://localhost:8080/"
        },
        "id": "s-pj1kBuHqPY",
        "outputId": "fc6d775f-e96a-45a4-8212-5bb9d219b6ee"
      },
      "source": [
        "import numpy as np\n",
        "emb_lst = np.array([idx_to_embedding[idx] for idx in m_bonitz_idx])\n",
        "print(emb_lst.shape)"
      ],
      "execution_count": null,
      "outputs": [
        {
          "output_type": "stream",
          "text": [
            "(20, 200)\n"
          ],
          "name": "stdout"
        }
      ]
    },
    {
      "cell_type": "markdown",
      "metadata": {
        "id": "0Y4Owg-_0r2z"
      },
      "source": [
        "## Cosine similarity"
      ]
    },
    {
      "cell_type": "code",
      "metadata": {
        "colab": {
          "base_uri": "https://localhost:8080/"
        },
        "id": "dtrY_gaEJA5k",
        "outputId": "073151c6-c8a2-4798-80d4-c4d69bbef0cb"
      },
      "source": [
        "from sklearn.metrics.pairwise import cosine_similarity\n",
        "similarities = cosine_similarity(emb_lst)\n",
        "print('pairwise dense output:\\n {}\\n'.format(similarities))"
      ],
      "execution_count": null,
      "outputs": [
        {
          "output_type": "stream",
          "text": [
            "pairwise dense output:\n",
            " [[ 9.99999762e-01  5.35902560e-01  6.12160861e-01  1.61125839e-01\n",
            "   7.79641211e-01  6.84487045e-01  7.29715347e-01  2.91978538e-01\n",
            "   7.35030115e-01  2.89619654e-01  5.58801174e-01  6.14904463e-01\n",
            "  -3.98614034e-02  5.74889541e-01  4.60767485e-02  2.12426946e-01\n",
            "   6.80274248e-01  2.95095503e-01  5.62077165e-01  8.17941189e-01]\n",
            " [ 5.35902560e-01  9.99999881e-01  3.98378193e-01  1.17634416e-01\n",
            "   1.97014198e-01  5.15861690e-01  5.04631639e-01 -1.97399899e-01\n",
            "   1.29650459e-01 -3.44665125e-02  8.71362686e-01  3.69338661e-01\n",
            "  -5.33155084e-01  5.56704521e-01  1.19720241e-02 -2.84949754e-04\n",
            "   3.63798380e-01 -7.26283193e-02  4.16106403e-01  5.02500176e-01]\n",
            " [ 6.12160861e-01  3.98378193e-01  1.00000000e+00  7.79682919e-02\n",
            "   5.48287451e-01  5.05101204e-01  4.77649659e-01  1.01972856e-01\n",
            "   5.44034958e-01  2.97589421e-01  3.01570773e-01  3.14630300e-01\n",
            "   2.53922462e-01  8.75451267e-01  1.64603382e-01  2.30208308e-01\n",
            "   2.87186384e-01  8.46683532e-02  4.77678716e-01  6.08146548e-01]\n",
            " [ 1.61125839e-01  1.17634416e-01  7.79682919e-02  1.00000012e+00\n",
            "   2.47363031e-01  1.51360899e-01 -1.31390139e-01 -1.76092446e-01\n",
            "   2.87597865e-01 -3.16673338e-01  1.24492779e-01 -1.42609790e-01\n",
            "   5.82599342e-02 -5.27232699e-02  3.04470688e-01  5.02117217e-01\n",
            "  -2.50650853e-01 -1.94990844e-01  8.80151391e-02  1.24925345e-01]\n",
            " [ 7.79641211e-01  1.97014198e-01  5.48287451e-01  2.47363031e-01\n",
            "   1.00000024e+00  7.48048186e-01  4.70378578e-01  3.03899139e-01\n",
            "   8.71885419e-01  3.94628555e-01  1.73823044e-01  4.14318770e-01\n",
            "   1.28384128e-01  4.16800261e-01 -6.35187030e-02  2.06009924e-01\n",
            "   5.03468573e-01  2.56790221e-01  6.31461918e-01  7.03625202e-01]\n",
            " [ 6.84487045e-01  5.15861690e-01  5.05101204e-01  1.51360899e-01\n",
            "   7.48048186e-01  1.00000012e+00  3.78504544e-01 -1.01866774e-01\n",
            "   6.14318132e-01  2.44298592e-01  3.92240167e-01  3.63973528e-01\n",
            "  -1.96372703e-01  4.88134146e-01 -1.23413555e-01  4.86772507e-02\n",
            "   3.82568181e-01 -4.85859737e-02  8.23940516e-01  6.27183378e-01]\n",
            " [ 7.29715347e-01  5.04631639e-01  4.77649659e-01 -1.31390139e-01\n",
            "   4.70378578e-01  3.78504544e-01  1.00000012e+00  4.48670298e-01\n",
            "   4.55194086e-01  2.51356214e-01  5.74556649e-01  6.94105625e-01\n",
            "  -1.50069907e-01  5.21284342e-01 -9.29877609e-02  1.00498069e-02\n",
            "   8.25872540e-01  4.56436545e-01  2.56785125e-01  6.65450454e-01]\n",
            " [ 2.91978538e-01 -1.97399899e-01  1.01972856e-01 -1.76092446e-01\n",
            "   3.03899139e-01 -1.01866774e-01  4.48670298e-01  1.00000024e+00\n",
            "   3.87616605e-01  6.16614223e-01  9.33164172e-03  5.75294912e-01\n",
            "   2.61399597e-01  4.47660051e-02 -3.14623505e-01 -1.91352576e-01\n",
            "   5.02551258e-01  8.89377356e-01 -2.20727265e-01  2.05969512e-01]\n",
            " [ 7.35030115e-01  1.29650459e-01  5.44034958e-01  2.87597865e-01\n",
            "   8.71885419e-01  6.14318132e-01  4.55194086e-01  3.87616605e-01\n",
            "   9.99999881e-01  3.83978188e-01  1.61954582e-01  3.94438922e-01\n",
            "   2.31035814e-01  3.73870760e-01 -2.76156012e-02  2.62808561e-01\n",
            "   4.70845550e-01  3.20401460e-01  4.83980119e-01  6.41639352e-01]\n",
            " [ 2.89619654e-01 -3.44665125e-02  2.97589421e-01 -3.16673338e-01\n",
            "   3.94628555e-01  2.44298592e-01  2.51356214e-01  6.16614223e-01\n",
            "   3.83978188e-01  9.99999940e-01  3.41736712e-02  4.17398453e-01\n",
            "   1.09691754e-01  2.65823156e-01 -5.42325616e-01 -5.35453677e-01\n",
            "   3.57164741e-01  6.10571384e-01  1.30418733e-01  2.40564376e-01]\n",
            " [ 5.58801174e-01  8.71362686e-01  3.01570773e-01  1.24492779e-01\n",
            "   1.73823044e-01  3.92240167e-01  5.74556649e-01  9.33164172e-03\n",
            "   1.61954582e-01  3.41736712e-02  1.00000012e+00  5.49190402e-01\n",
            "  -5.37206411e-01  4.78230685e-01 -1.49355701e-03 -2.20661219e-02\n",
            "   4.36487287e-01  1.80280313e-01  2.35864595e-01  4.20942396e-01]\n",
            " [ 6.14904463e-01  3.69338661e-01  3.14630300e-01 -1.42609790e-01\n",
            "   4.14318770e-01  3.63973528e-01  6.94105625e-01  5.75294912e-01\n",
            "   3.94438922e-01  4.17398453e-01  5.49190402e-01  1.00000000e+00\n",
            "  -1.56216338e-01  3.68127078e-01 -1.21796988e-01 -1.11483693e-01\n",
            "   6.29669070e-01  7.07247972e-01  1.38440415e-01  3.71210873e-01]\n",
            " [-3.98614034e-02 -5.33155084e-01  2.53922462e-01  5.82599342e-02\n",
            "   1.28384128e-01 -1.96372703e-01 -1.50069907e-01  2.61399597e-01\n",
            "   2.31035814e-01  1.09691754e-01 -5.37206411e-01 -1.56216338e-01\n",
            "   9.99999881e-01  7.54056424e-02  2.45401412e-01  3.67290586e-01\n",
            "  -2.14294270e-01  9.87935737e-02 -2.13640153e-01 -3.92738283e-02]\n",
            " [ 5.74889541e-01  5.56704521e-01  8.75451267e-01 -5.27232699e-02\n",
            "   4.16800261e-01  4.88134146e-01  5.21284342e-01  4.47660051e-02\n",
            "   3.73870760e-01  2.65823156e-01  4.78230685e-01  3.68127078e-01\n",
            "   7.54056424e-02  1.00000024e+00  1.12622529e-01  1.34860918e-01\n",
            "   3.38371396e-01  1.02600344e-01  4.41598147e-01  5.59144258e-01]\n",
            " [ 4.60767485e-02  1.19720241e-02  1.64603382e-01  3.04470688e-01\n",
            "  -6.35187030e-02 -1.23413555e-01 -9.29877609e-02 -3.14623505e-01\n",
            "  -2.76156012e-02 -5.42325616e-01 -1.49355701e-03 -1.21796988e-01\n",
            "   2.45401412e-01  1.12622529e-01  9.99999940e-01  7.46263564e-01\n",
            "  -3.00204962e-01 -3.02172452e-01 -4.89302874e-02 -1.76151115e-02]\n",
            " [ 2.12426946e-01 -2.84949754e-04  2.30208308e-01  5.02117217e-01\n",
            "   2.06009924e-01  4.86772507e-02  1.00498069e-02 -1.91352576e-01\n",
            "   2.62808561e-01 -5.35453677e-01 -2.20661219e-02 -1.11483693e-01\n",
            "   3.67290586e-01  1.34860918e-01  7.46263564e-01  9.99999940e-01\n",
            "  -1.43528938e-01 -2.43161395e-01  1.15243889e-01  2.10350722e-01]\n",
            " [ 6.80274248e-01  3.63798380e-01  2.87186384e-01 -2.50650853e-01\n",
            "   5.03468573e-01  3.82568181e-01  8.25872540e-01  5.02551258e-01\n",
            "   4.70845550e-01  3.57164741e-01  4.36487287e-01  6.29669070e-01\n",
            "  -2.14294270e-01  3.38371396e-01 -3.00204962e-01 -1.43528938e-01\n",
            "   1.00000024e+00  4.80527282e-01  2.42986724e-01  6.70748830e-01]\n",
            " [ 2.95095503e-01 -7.26283193e-02  8.46683532e-02 -1.94990844e-01\n",
            "   2.56790221e-01 -4.85859737e-02  4.56436545e-01  8.89377356e-01\n",
            "   3.20401460e-01  6.10571384e-01  1.80280313e-01  7.07247972e-01\n",
            "   9.87935737e-02  1.02600344e-01 -3.02172452e-01 -2.43161395e-01\n",
            "   4.80527282e-01  9.99999642e-01 -2.20811293e-01  1.50218070e-01]\n",
            " [ 5.62077165e-01  4.16106403e-01  4.77678716e-01  8.80151391e-02\n",
            "   6.31461918e-01  8.23940516e-01  2.56785125e-01 -2.20727265e-01\n",
            "   4.83980119e-01  1.30418733e-01  2.35864595e-01  1.38440415e-01\n",
            "  -2.13640153e-01  4.41598147e-01 -4.89302874e-02  1.15243889e-01\n",
            "   2.42986724e-01 -2.20811293e-01  1.00000036e+00  5.81758797e-01]\n",
            " [ 8.17941189e-01  5.02500176e-01  6.08146548e-01  1.24925345e-01\n",
            "   7.03625202e-01  6.27183378e-01  6.65450454e-01  2.05969512e-01\n",
            "   6.41639352e-01  2.40564376e-01  4.20942396e-01  3.71210873e-01\n",
            "  -3.92738283e-02  5.59144258e-01 -1.76151115e-02  2.10350722e-01\n",
            "   6.70748830e-01  1.50218070e-01  5.81758797e-01  1.00000024e+00]]\n",
            "\n"
          ],
          "name": "stdout"
        }
      ]
    },
    {
      "cell_type": "markdown",
      "metadata": {
        "id": "bd-8_buM0z3v"
      },
      "source": [
        "seems that cosine is not that representative"
      ]
    },
    {
      "cell_type": "markdown",
      "metadata": {
        "id": "eO3JKQ5603r7"
      },
      "source": [
        "## Euclidean distance"
      ]
    },
    {
      "cell_type": "code",
      "metadata": {
        "id": "sYIO-ALbu3Oa"
      },
      "source": [
        "from sklearn.metrics.pairwise import euclidean_distances\n",
        "dist = euclidean_distances(emb_lst)"
      ],
      "execution_count": null,
      "outputs": []
    },
    {
      "cell_type": "code",
      "metadata": {
        "colab": {
          "base_uri": "https://localhost:8080/"
        },
        "id": "ZaEdwB43vuz-",
        "outputId": "42f783e0-cea7-4647-989b-14c470ca0000"
      },
      "source": [
        "print(dist)"
      ],
      "execution_count": null,
      "outputs": [
        {
          "output_type": "stream",
          "text": [
            "[[0.         0.6281145  0.5408023  0.7386723  0.41561425 0.479495\n",
            "  0.43847334 0.7488421  0.43512672 0.76312774 0.57025224 0.5139085\n",
            "  0.81341946 0.5702995  0.8022864  0.81494147 0.5075528  0.7633103\n",
            "  0.5625248  0.3770957 ]\n",
            " [0.6281145  0.         0.6963335  0.7865924  0.81847644 0.6149767\n",
            "  0.61168456 1.0040653  0.8049446  0.94862795 0.3289317  0.6777561\n",
            "  1.0178614  0.6028369  0.84618664 0.94522244 0.73818153 0.9696655\n",
            "  0.6726895  0.58492935]\n",
            " [0.5408023  0.6963335  0.         0.74471545 0.57734907 0.5774744\n",
            "  0.57978827 0.8184075  0.5438936  0.7376496  0.6928211  0.65214485\n",
            "  0.6660623  0.29914448 0.7248121  0.7838768  0.7360931  0.84517795\n",
            "  0.5920884  0.4746785 ]\n",
            " [0.7386723  0.7865924  0.74471545 0.         0.6924959  0.69489706\n",
            "  0.77837026 0.8664932  0.6210057  0.93438834 0.7145766  0.76543623\n",
            "  0.67649907 0.80289704 0.6033485  0.59888756 0.9020459  0.89563584\n",
            "  0.7183959  0.60770684]\n",
            " [0.41561425 0.81847644 0.57734907 0.6924959  0.         0.4239142\n",
            "  0.5993507  0.7355778  0.30359256 0.6982923  0.77076316 0.6203331\n",
            "  0.7380292  0.66113794 0.8371232  0.81118965 0.626794   0.77685\n",
            "  0.51056707 0.44097248]\n",
            " [0.479495   0.6149767  0.5774744  0.69489706 0.4239142  0.\n",
            "  0.6149675  0.88626176 0.48658365 0.7493571  0.63080025 0.6108191\n",
            "  0.81651354 0.5928396  0.8177086  0.85288674 0.6713684  0.88514435\n",
            "  0.3351029  0.44498923]\n",
            " [0.43847334 0.61168456 0.57978827 0.77837026 0.5993507  0.6149675\n",
            "  0.         0.6155874  0.5623211  0.7303838  0.51543784 0.41153964\n",
            "  0.7773659  0.5611217  0.78434473 0.8511328  0.35967052 0.6284407\n",
            "  0.6708517  0.40474197]\n",
            " [0.7488421  1.0040653  0.8184075  0.8664932  0.7355778  0.88626176\n",
            "  0.6155874  0.         0.6501569  0.5587456  0.84885204 0.5353659\n",
            "  0.68635094 0.8508945  0.9354034  0.998324   0.63069975 0.30228513\n",
            "  0.93082184 0.6772241 ]\n",
            " [0.43512672 0.8049446  0.5438936  0.6210057  0.30359256 0.48658365\n",
            "  0.5623211  0.6501569  0.         0.6662046  0.72504884 0.58127487\n",
            "  0.63930804 0.6428489  0.7638433  0.73965126 0.6118837  0.70238125\n",
            "  0.56135416 0.4206232 ]\n",
            " [0.76312774 0.94862795 0.7376496  0.93438834 0.6982923  0.7493571\n",
            "  0.7303838  0.5587456  0.6662046  0.         0.8540216  0.63784266\n",
            "  0.7676047  0.7597972  1.0318584  1.1520488  0.729242   0.5746425\n",
            "  0.8017687  0.6811111 ]\n",
            " [0.57025224 0.3289317  0.6928211  0.7145766  0.77076316 0.63080025\n",
            "  0.51543784 0.84885204 0.72504884 0.8540216  0.         0.5218831\n",
            "  0.9356775  0.60433656 0.78128946 0.8917677  0.64736146 0.79080635\n",
            "  0.7058361  0.5522167 ]\n",
            " [0.5139085  0.6777561  0.65214485 0.76543623 0.6203331  0.6108191\n",
            "  0.41153964 0.5353659  0.58127487 0.63784266 0.5218831  0.\n",
            "  0.7624482  0.6331915  0.77830416 0.8861097  0.5081164  0.46507952\n",
            "  0.70859796 0.52821755]\n",
            " [0.81341946 1.0178614  0.6660623  0.67649907 0.7380292  0.81651354\n",
            "  0.7773659  0.68635094 0.63930804 0.7676047  0.9356775  0.7624482\n",
            "  0.         0.7473632  0.6225393  0.6656776  0.8820029  0.77607757\n",
            "  0.82038593 0.6535274 ]\n",
            " [0.5702995  0.6028369  0.29914448 0.80289704 0.66113794 0.5928396\n",
            "  0.5611217  0.8508945  0.6428489  0.7597972  0.60433656 0.6331915\n",
            "  0.7473632  0.         0.75414973 0.8368375  0.71475226 0.84334975\n",
            "  0.61794436 0.50695616]\n",
            " [0.8022864  0.84618664 0.7248121  0.6033485  0.8371232  0.8177086\n",
            "  0.78434473 0.9354034  0.7638433  1.0318584  0.78128946 0.77830416\n",
            "  0.6225393  0.75414973 0.         0.4443257  0.9394331  0.95375115\n",
            "  0.78842145 0.6752481 ]\n",
            " [0.81494147 0.94522244 0.7838768  0.59888756 0.81118965 0.85288674\n",
            "  0.8511328  0.998324   0.73965126 1.1520488  0.8917677  0.8861097\n",
            "  0.6656776  0.8368375  0.4443257  0.         0.98610747 1.040655\n",
            "  0.82151675 0.7073788 ]\n",
            " [0.5075528  0.73818153 0.7360931  0.9020459  0.626794   0.6713684\n",
            "  0.35967052 0.63069975 0.6118837  0.729242   0.64736146 0.5081164\n",
            "  0.8820029  0.71475226 0.9394331  0.98610747 0.         0.6582541\n",
            "  0.7412902  0.4730693 ]\n",
            " [0.7633103  0.9696655  0.84517795 0.89563584 0.77685    0.88514435\n",
            "  0.6284407  0.30228513 0.70238125 0.5746425  0.79080635 0.46507952\n",
            "  0.77607757 0.84334975 0.95375115 1.040655   0.6582541  0.\n",
            "  0.9526335  0.72021496]\n",
            " [0.5625248  0.6726895  0.5920884  0.7183959  0.51056707 0.3351029\n",
            "  0.6708517  0.93082184 0.56135416 0.8017687  0.7058361  0.70859796\n",
            "  0.82038593 0.61794436 0.78842145 0.82151675 0.7412902  0.9526335\n",
            "  0.         0.46676114]\n",
            " [0.3770957  0.58492935 0.4746785  0.60770684 0.44097248 0.44498923\n",
            "  0.40474197 0.6772241  0.4206232  0.6811111  0.5522167  0.52821755\n",
            "  0.6535274  0.50695616 0.6752481  0.7073788  0.4730693  0.72021496\n",
            "  0.46676114 0.        ]]\n"
          ],
          "name": "stdout"
        }
      ]
    },
    {
      "cell_type": "markdown",
      "metadata": {
        "id": "m050ad7A1Da6"
      },
      "source": [
        "Distance of 0.8 seems a good threshold"
      ]
    },
    {
      "cell_type": "markdown",
      "metadata": {
        "id": "7GK8G46K1OnE"
      },
      "source": [
        "# Hierarchical clustering with euclidean distance"
      ]
    },
    {
      "cell_type": "markdown",
      "metadata": {
        "id": "WrkcE69P4Slp"
      },
      "source": [
        "Let's cluster some blocks"
      ]
    },
    {
      "cell_type": "code",
      "metadata": {
        "id": "oU50qdqcwPMd"
      },
      "source": [
        "from sklearn.cluster import AgglomerativeClustering\n",
        "result = AgglomerativeClustering(n_clusters = None, affinity=\"euclidean\", compute_full_tree=True, distance_threshold=0.85).fit(emb_lst)"
      ],
      "execution_count": null,
      "outputs": []
    },
    {
      "cell_type": "code",
      "metadata": {
        "colab": {
          "base_uri": "https://localhost:8080/"
        },
        "id": "mxScaiMN5pvE",
        "outputId": "4754daa0-d5c2-46a2-a46f-8381f9219723"
      },
      "source": [
        "result.labels_"
      ],
      "execution_count": null,
      "outputs": [
        {
          "output_type": "execute_result",
          "data": {
            "text/plain": [
              "array([1, 0, 1, 3, 1, 1, 0, 2, 1, 2, 0, 0, 3, 1, 3, 3, 0, 2, 1, 1])"
            ]
          },
          "metadata": {
            "tags": []
          },
          "execution_count": 111
        }
      ]
    },
    {
      "cell_type": "code",
      "metadata": {
        "colab": {
          "base_uri": "https://localhost:8080/"
        },
        "id": "EkI_ermb59Cb",
        "outputId": "526c26e4-6f4f-4823-87fd-73297df07016"
      },
      "source": [
        "for x, y in zip(m_bonitz_lst, result.labels_):\n",
        "  print(x, y)"
      ],
      "execution_count": null,
      "outputs": [
        {
          "output_type": "stream",
          "text": [
            "https://github.com/arcangelo7/time_agnostic/ar/4293 1\n",
            "https://github.com/arcangelo7/time_agnostic/ar/21727 0\n",
            "https://github.com/arcangelo7/time_agnostic/ar/79750 1\n",
            "https://github.com/arcangelo7/time_agnostic/ar/91541 3\n",
            "https://github.com/arcangelo7/time_agnostic/ar/45318 1\n",
            "https://github.com/arcangelo7/time_agnostic/ar/40867 1\n",
            "https://github.com/arcangelo7/time_agnostic/ar/4604 0\n",
            "https://github.com/arcangelo7/time_agnostic/ar/47672 2\n",
            "https://github.com/arcangelo7/time_agnostic/ar/3109 1\n",
            "https://github.com/arcangelo7/time_agnostic/ar/3935 2\n",
            "https://github.com/arcangelo7/time_agnostic/ar/236021 0\n",
            "https://github.com/arcangelo7/time_agnostic/ar/4561 0\n",
            "https://github.com/arcangelo7/time_agnostic/ar/91538 3\n",
            "https://github.com/arcangelo7/time_agnostic/ar/13251 1\n",
            "https://github.com/arcangelo7/time_agnostic/ar/91536 3\n",
            "https://github.com/arcangelo7/time_agnostic/ar/91550 3\n",
            "https://github.com/arcangelo7/time_agnostic/ar/58499 0\n",
            "https://github.com/arcangelo7/time_agnostic/ar/4239 2\n",
            "https://github.com/arcangelo7/time_agnostic/ar/4096 1\n",
            "https://github.com/arcangelo7/time_agnostic/ar/81527 1\n"
          ],
          "name": "stdout"
        }
      ]
    },
    {
      "cell_type": "code",
      "metadata": {
        "colab": {
          "base_uri": "https://localhost:8080/"
        },
        "id": "ToLsUZ-9JOlb",
        "outputId": "d5372435-ee67-41b0-a6db-3a16a798c89f"
      },
      "source": [
        "from sklearn.cluster import AgglomerativeClustering\n",
        "result2 = AgglomerativeClustering(n_clusters = None, affinity=\"euclidean\", compute_full_tree=True, distance_threshold=1.4).fit(emb_lst)\n",
        "for x, y in zip(m_bonitz_lst, result2.labels_):\n",
        "  print(x, y)"
      ],
      "execution_count": null,
      "outputs": [
        {
          "output_type": "stream",
          "text": [
            "https://github.com/arcangelo7/time_agnostic/ar/4293 0\n",
            "https://github.com/arcangelo7/time_agnostic/ar/21727 0\n",
            "https://github.com/arcangelo7/time_agnostic/ar/79750 0\n",
            "https://github.com/arcangelo7/time_agnostic/ar/91541 1\n",
            "https://github.com/arcangelo7/time_agnostic/ar/45318 0\n",
            "https://github.com/arcangelo7/time_agnostic/ar/40867 0\n",
            "https://github.com/arcangelo7/time_agnostic/ar/4604 0\n",
            "https://github.com/arcangelo7/time_agnostic/ar/47672 0\n",
            "https://github.com/arcangelo7/time_agnostic/ar/3109 0\n",
            "https://github.com/arcangelo7/time_agnostic/ar/3935 0\n",
            "https://github.com/arcangelo7/time_agnostic/ar/236021 0\n",
            "https://github.com/arcangelo7/time_agnostic/ar/4561 0\n",
            "https://github.com/arcangelo7/time_agnostic/ar/91538 1\n",
            "https://github.com/arcangelo7/time_agnostic/ar/13251 0\n",
            "https://github.com/arcangelo7/time_agnostic/ar/91536 1\n",
            "https://github.com/arcangelo7/time_agnostic/ar/91550 1\n",
            "https://github.com/arcangelo7/time_agnostic/ar/58499 0\n",
            "https://github.com/arcangelo7/time_agnostic/ar/4239 0\n",
            "https://github.com/arcangelo7/time_agnostic/ar/4096 0\n",
            "https://github.com/arcangelo7/time_agnostic/ar/81527 0\n"
          ],
          "name": "stdout"
        }
      ]
    },
    {
      "cell_type": "markdown",
      "metadata": {
        "id": "k4oMkz3sKCGO"
      },
      "source": [
        "1.4 is the threshold that perfectly splits the author's block."
      ]
    }
  ]
}