{
  "nbformat": 4,
  "nbformat_minor": 0,
  "metadata": {
    "colab": {
      "name": "clustering_oc.ipynb",
      "provenance": [],
      "collapsed_sections": []
    },
    "kernelspec": {
      "name": "python3",
      "display_name": "Python 3"
    },
    "language_info": {
      "name": "python"
    }
  },
  "cells": [
    {
      "cell_type": "markdown",
      "metadata": {
        "id": "rrCPbLWy0Itc"
      },
      "source": [
        "# Installing pykeen"
      ]
    },
    {
      "cell_type": "markdown",
      "metadata": {
        "id": "MoYKvFsbO02G"
      },
      "source": [
        "For installing our extensions for PyKEEN v.1.4.0, clone this specific version of PyKEEN inside your machine and follow the instructions on the `README.md` file in [this GitHub directory](https://github.com/sntcristian/and-kge/tree/main/pykeen-extension). Then, execute the following steps: <br/>\n",
        "1. open the command line inside the folder in which your modified version of PyKEEN is.\n",
        "2. install the library in development mode.\n",
        "3. install sentence-transformers library (this will be used by our preprocessing classes)."
      ]
    },
    {
      "cell_type": "code",
      "metadata": {
        "colab": {
          "base_uri": "https://localhost:8080/"
        },
        "id": "hOEn0x5D8pai",
        "outputId": "0267f785-dbf5-4134-9d25-3ad5df3d1e1e"
      },
      "source": [
        "cd \"/content/drive/MyDrive/thesis_project/pykeen-1.4.0\""
      ],
      "execution_count": null,
      "outputs": [
        {
          "output_type": "stream",
          "name": "stdout",
          "text": [
            "/content/drive/MyDrive/thesis_project/pykeen-1.4.0\n"
          ]
        }
      ]
    },
    {
      "cell_type": "code",
      "metadata": {
        "id": "ogeloqFn-G2u"
      },
      "source": [
        "!pip install -e .\n",
        "!pip install sentence-transformers"
      ],
      "execution_count": null,
      "outputs": []
    },
    {
      "cell_type": "markdown",
      "metadata": {
        "id": "z2vWu3CxXO2m"
      },
      "source": [
        "# Importing libraries"
      ]
    },
    {
      "cell_type": "markdown",
      "metadata": {
        "id": "vY9W6onaXNIk"
      },
      "source": [
        "**Note:** if you have problem in importing PyKEEN inside the Jupyter environment (happens in Colab), restart the runtime."
      ]
    },
    {
      "cell_type": "code",
      "metadata": {
        "id": "7EgVmzAcMz0t"
      },
      "source": [
        "import json\n",
        "import pykeen\n",
        "import torch\n",
        "from sklearn.cluster import AgglomerativeClustering\n",
        "import time\n",
        "from tqdm import tqdm\n",
        "import numpy as np\n",
        "import random"
      ],
      "execution_count": null,
      "outputs": []
    },
    {
      "cell_type": "markdown",
      "metadata": {
        "id": "1M5nQFjYXUf3"
      },
      "source": [
        "# Load model"
      ]
    },
    {
      "cell_type": "markdown",
      "metadata": {
        "id": "qrplsLuZVUiT"
      },
      "source": [
        "You can find the model used in this notebook in this [Zenodo repository](https://zenodo.org/record/5569490#.YW7u4NlBwwQ)."
      ]
    },
    {
      "cell_type": "code",
      "metadata": {
        "id": "9D9gUuQxSu3S"
      },
      "source": [
        "distmult_kge = torch.load(\"distmult.pkl\", map_location=torch.device('cpu'))"
      ],
      "execution_count": null,
      "outputs": []
    },
    {
      "cell_type": "markdown",
      "metadata": {
        "id": "ZF56fsjaXWv_"
      },
      "source": [
        "# Load data"
      ]
    },
    {
      "cell_type": "markdown",
      "metadata": {
        "id": "K4TjqQYPXYil"
      },
      "source": [
        "The data processed by our clustering algorithms is a dictionary containing blocks of `(author, publication)` pairs where each key is an ambigous name and the value of that key is a list of publications written by different authors. The script show a sample of the input file used in this notebook, with ambigous publications written by authors which correspond to \"Ali M\".<br/>\n",
        "The data used in this research is available in this [GitHub repository](https://github.com/sntcristian/and-kge/blob/main/author_disambiguation/OC-782K/data/lnfi_blocks.json)."
      ]
    },
    {
      "cell_type": "code",
      "metadata": {
        "id": "8ef322W5-XKx",
        "colab": {
          "base_uri": "https://localhost:8080/"
        },
        "outputId": "8bd954ee-fd4f-4289-8747-8a358d759395"
      },
      "source": [
        "with open(\"lnfi_blocks.json\", \"r\") as f:\n",
        "    eval_data = json.load(f)\n",
        "f.close()\n",
        "\n",
        "print(eval_data[\"Ali M\"])"
      ],
      "execution_count": 16,
      "outputs": [
        {
          "output_type": "stream",
          "name": "stdout",
          "text": [
            "[{'author': 'https://github.com/arcangelo7/time_agnostic/ra/20818', 'coauthors': [], 'family_name': 'Ali', 'given_name': 'Mona Farouk', 'label': 'http://orcid.org/0000-0002-2928-6669', 'references': ['https://github.com/arcangelo7/time_agnostic/br/110391', 'https://github.com/arcangelo7/time_agnostic/br/119968', 'https://github.com/arcangelo7/time_agnostic/br/138728', 'https://github.com/arcangelo7/time_agnostic/br/138982', 'https://github.com/arcangelo7/time_agnostic/br/138983', 'https://github.com/arcangelo7/time_agnostic/br/138984', 'https://github.com/arcangelo7/time_agnostic/br/138985', 'https://github.com/arcangelo7/time_agnostic/br/138986', 'https://github.com/arcangelo7/time_agnostic/br/138987', 'https://github.com/arcangelo7/time_agnostic/br/138988', 'https://github.com/arcangelo7/time_agnostic/br/138989', 'https://github.com/arcangelo7/time_agnostic/br/138990', 'https://github.com/arcangelo7/time_agnostic/br/138991', 'https://github.com/arcangelo7/time_agnostic/br/138992', 'https://github.com/arcangelo7/time_agnostic/br/138993', 'https://github.com/arcangelo7/time_agnostic/br/138995', 'https://github.com/arcangelo7/time_agnostic/br/138996', 'https://github.com/arcangelo7/time_agnostic/br/138997', 'https://github.com/arcangelo7/time_agnostic/br/138998', 'https://github.com/arcangelo7/time_agnostic/br/139000', 'https://github.com/arcangelo7/time_agnostic/br/139001', 'https://github.com/arcangelo7/time_agnostic/br/139002', 'https://github.com/arcangelo7/time_agnostic/br/139003', 'https://github.com/arcangelo7/time_agnostic/br/139004'], 'title': 'Attitudes towards plagiarism among faculty members in Egypt: a cross-sectional study', 'venue': '', 'work': 'https://github.com/arcangelo7/time_agnostic/br/138980'}, {'author': 'https://github.com/arcangelo7/time_agnostic/ra/20782', 'coauthors': [], 'family_name': 'Ali', 'given_name': 'Mona Farouk', 'label': 'http://orcid.org/0000-0002-2928-6669', 'references': ['https://github.com/arcangelo7/time_agnostic/br/138728'], 'title': 'Correction to: Attitudes towards plagiarism among faculty members in Egypt: a cross‑sectional study', 'venue': '', 'work': 'https://github.com/arcangelo7/time_agnostic/br/138727'}, {'author': 'https://github.com/arcangelo7/time_agnostic/ra/247452', 'coauthors': ['Vecchio Massimo', 'Pincheira Miguel', 'Dolui Koustabh', 'Antonelli Fabio', 'Rehmani Mubashir Husain'], 'family_name': 'Ali', 'given_name': 'Muhammad Salek', 'label': 'http://orcid.org/0000-0002-3336-2185', 'references': [], 'title': 'Applications of Blockchains in the Internet of Things: A Comprehensive Survey', 'venue': 'Institute of Electrical and Electronics Engineers (IEEE)', 'work': 'https://github.com/arcangelo7/time_agnostic/br/152815'}, {'author': 'https://github.com/arcangelo7/time_agnostic/ra/197191', 'coauthors': ['Richardson Joanna'], 'family_name': 'Ali', 'given_name': 'Muhammad Yousuf', 'label': 'http://orcid.org/0000-0002-5715-3070', 'references': [], 'title': 'Usage of academic social networking sites by Karachi social science faculty', 'venue': 'SAGE Publications', 'work': 'https://github.com/arcangelo7/time_agnostic/br/48125'}]\n"
          ]
        }
      ]
    },
    {
      "cell_type": "markdown",
      "metadata": {
        "id": "9Rt-bnOHYOG3"
      },
      "source": [
        "# Clustering of Knowledge Graph Embeddings (KGEs)"
      ]
    },
    {
      "cell_type": "markdown",
      "metadata": {
        "id": "dUCKDLlwYUKo"
      },
      "source": [
        "This is the algorithm used to cluster the publications in the `eval data` dictionary. This function takes as input a KGE model (`distmult_kge`), and several parameters to perform Hierarchical Agglomerative Clustering on the embeddings. <br/>\n",
        "The feature clustered is a concatenation of the vector associated to the publication and of the vector associated to the author, in order to have a more meaningful feature<br/>\n",
        "The output of the function is organized specularly to the input data."
      ]
    },
    {
      "cell_type": "code",
      "metadata": {
        "id": "hprc0GON-O6X"
      },
      "source": [
        "def cluster_KGEs(model, blocks, affinity_type, linkage, threshold):\n",
        "    entity_representation_modules = model.entity_embeddings\n",
        "    entity_to_id = model.triples_factory.entity_to_id\n",
        "    output_data = dict()\n",
        "    print(\"clustering blocks\")\n",
        "    pbar = tqdm(total=len(blocks))\n",
        "    start_time = time.time()\n",
        "    n = 0\n",
        "    for name in blocks.keys():\n",
        "        block = blocks[name]\n",
        "        n += 1\n",
        "        output_data[name] = list()\n",
        "        works_idx = torch.tensor([entity_to_id[pub[\"work\"]] for pub in block],\n",
        "                                  dtype=torch.long)\n",
        "        works_embeddings = entity_representation_modules.forward(indices=works_idx).detach().numpy()\n",
        "\n",
        "        authors_idx = torch.tensor([entity_to_id[pub[\"author\"]] for pub in block],\n",
        "                                 dtype=torch.long)\n",
        "        authors_embeddings = entity_representation_modules.forward(indices=authors_idx).detach().numpy()\n",
        "\n",
        "        concat_embeddings = np.hstack((works_embeddings, authors_embeddings))\n",
        "\n",
        "        result = AgglomerativeClustering(n_clusters=None, affinity=affinity_type, linkage=linkage, compute_full_tree=True,\n",
        "                                        distance_threshold=threshold).fit(concat_embeddings)\n",
        "\n",
        "        for entry, cluster_label in zip(block, result.labels_):\n",
        "            new_d = dict()\n",
        "            new_d[\"author\"] = entry[\"author\"]\n",
        "            new_d[\"work\"] = entry[\"work\"]\n",
        "            new_d[\"label\"] = \"disambiguated-\"+str(n)+\"#\"+str(cluster_label)\n",
        "            output_data[name].append(new_d)\n",
        "        pbar.update(1)\n",
        "    pbar.close()\n",
        "    print(\"process took %s seconds\" % (time.time() - start_time))\n",
        "    return output_data\n"
      ],
      "execution_count": 17,
      "outputs": []
    },
    {
      "cell_type": "code",
      "metadata": {
        "colab": {
          "base_uri": "https://localhost:8080/"
        },
        "id": "c8nz1mSQ-3hf",
        "outputId": "90fd3e72-9e48-4c7e-f79e-8ff6bfb32369"
      },
      "source": [
        "cluster_data = cluster_KGEs(model=model, blocks=eval_data, affinity_type=\"cosine\", linkage=\"single\", threshold=0.6) "
      ],
      "execution_count": 19,
      "outputs": [
        {
          "output_type": "stream",
          "name": "stdout",
          "text": [
            "clustering blocks\n"
          ]
        },
        {
          "output_type": "stream",
          "name": "stderr",
          "text": [
            "100%|██████████| 184/184 [00:00<00:00, 1212.27it/s]"
          ]
        },
        {
          "output_type": "stream",
          "name": "stdout",
          "text": [
            "process took 0.15309762954711914 seconds\n"
          ]
        },
        {
          "output_type": "stream",
          "name": "stderr",
          "text": [
            "\n"
          ]
        }
      ]
    },
    {
      "cell_type": "markdown",
      "metadata": {
        "id": "nPFKToxuY7F_"
      },
      "source": [
        "here is a sample of the output of the function"
      ]
    },
    {
      "cell_type": "code",
      "metadata": {
        "colab": {
          "base_uri": "https://localhost:8080/"
        },
        "id": "e_vW-EEjWoTj",
        "outputId": "bd983329-9d6f-4789-9f3b-901b563c1ebe"
      },
      "source": [
        "print(cluster_data[\"Ali M\"])"
      ],
      "execution_count": 20,
      "outputs": [
        {
          "output_type": "stream",
          "name": "stdout",
          "text": [
            "[{'author': 'https://github.com/arcangelo7/time_agnostic/ra/20818', 'work': 'https://github.com/arcangelo7/time_agnostic/br/138980', 'label': 'disambiguated-1#2'}, {'author': 'https://github.com/arcangelo7/time_agnostic/ra/20782', 'work': 'https://github.com/arcangelo7/time_agnostic/br/138727', 'label': 'disambiguated-1#3'}, {'author': 'https://github.com/arcangelo7/time_agnostic/ra/247452', 'work': 'https://github.com/arcangelo7/time_agnostic/br/152815', 'label': 'disambiguated-1#1'}, {'author': 'https://github.com/arcangelo7/time_agnostic/ra/197191', 'work': 'https://github.com/arcangelo7/time_agnostic/br/48125', 'label': 'disambiguated-1#0'}]\n"
          ]
        }
      ]
    },
    {
      "cell_type": "code",
      "metadata": {
        "id": "pyprbCzK-6Cf"
      },
      "source": [
        "with open(\"model_labels.json\", \"w\") as output_file:\n",
        "      json.dump(cluster_data, output_file, indent=4, sort_keys=True)\n",
        "output_file.close()"
      ],
      "execution_count": 21,
      "outputs": []
    },
    {
      "cell_type": "markdown",
      "metadata": {
        "id": "1ZLP4muFZNtQ"
      },
      "source": [
        "# Model evaluation"
      ]
    },
    {
      "cell_type": "markdown",
      "metadata": {
        "id": "G5INyXK7ZPj6"
      },
      "source": [
        "If the input data is provided with ground-truth labels, we can compare the pairwise **Precision**, **Recall** and **F1 Score** of our model based on the ground-truth and the labels given by the model."
      ]
    },
    {
      "cell_type": "code",
      "metadata": {
        "id": "JIO-u7FH-QyD"
      },
      "source": [
        "def evaluate_no_macro(x_blocks, y_blocks):\n",
        "    true_positive = 0\n",
        "    true_negative = 0\n",
        "    false_positive = 0\n",
        "    false_negative = 0\n",
        "    pbar = tqdm(total=len(x_blocks.keys()))\n",
        "    for name in x_blocks.keys():\n",
        "        cluster_block = x_blocks[name]\n",
        "        true_block = y_blocks[name]\n",
        "        for idx1 in range(1, len(cluster_block)):\n",
        "            cluster_label1 = cluster_block[idx1][\"label\"]\n",
        "            true_label1 = true_block[idx1][\"label\"]\n",
        "            for idx2 in range(0, idx1):\n",
        "                cluster_label2 = cluster_block[idx2][\"label\"]\n",
        "                true_label2 = true_block[idx2][\"label\"]\n",
        "                if cluster_label1 == cluster_label2 and true_label1 == true_label2:\n",
        "                    true_positive += 1\n",
        "                elif cluster_label1 == cluster_label2 and true_label1 != true_label2:\n",
        "                    false_positive += 1\n",
        "                elif cluster_label1 != cluster_label2 and true_label1 == true_label2:\n",
        "                    false_negative += 1\n",
        "                else:\n",
        "                    true_negative += 1\n",
        "        pbar.update(1)\n",
        "    pbar.close()\n",
        "\n",
        "    total_comparisons = true_positive + false_positive + true_negative + false_negative\n",
        "    total_positives = true_positive + false_negative\n",
        "    total_negatives = true_negative + false_positive\n",
        "    precision = true_positive / (true_positive + false_positive)\n",
        "    recall = true_positive / (true_positive + false_negative)\n",
        "    f1_score = 2 * ((precision*recall)/(precision+recall))\n",
        "\n",
        "    output_dict = {\n",
        "        \"total_comparisons\": total_comparisons,\n",
        "        \"total_positives\": total_positives,\n",
        "        \"total_negatives\": total_negatives,\n",
        "        \"true_positive\": true_positive,\n",
        "        \"true_negative\": true_negative,\n",
        "        \"false_positive\": false_positive,\n",
        "        \"false_negative\": false_negative,\n",
        "        \"precision\": precision,\n",
        "        \"recall\": recall,\n",
        "        \"F1 score\": f1_score\n",
        "    }\n",
        "    return output_dict"
      ],
      "execution_count": 18,
      "outputs": []
    },
    {
      "cell_type": "code",
      "metadata": {
        "colab": {
          "base_uri": "https://localhost:8080/"
        },
        "id": "PIevFAGF-9ba",
        "outputId": "fd4bad8a-6e90-4199-ec95-a260102354ea"
      },
      "source": [
        "evaluation_output = evaluate_no_macro(cluster_data, eval_data)\n",
        "print(evaluation_output)"
      ],
      "execution_count": 23,
      "outputs": [
        {
          "output_type": "stream",
          "name": "stderr",
          "text": [
            "100%|██████████| 184/184 [00:00<00:00, 47674.32it/s]"
          ]
        },
        {
          "output_type": "stream",
          "name": "stdout",
          "text": [
            "{'total_comparisons': 3156, 'total_positives': 1484, 'total_negatives': 1672, 'true_positive': 996, 'true_negative': 1582, 'false_positive': 90, 'false_negative': 488, 'precision': 0.9171270718232044, 'recall': 0.6711590296495957, 'F1 score': 0.7750972762645916}\n"
          ]
        },
        {
          "output_type": "stream",
          "name": "stderr",
          "text": [
            "\n"
          ]
        }
      ]
    }
  ]
}